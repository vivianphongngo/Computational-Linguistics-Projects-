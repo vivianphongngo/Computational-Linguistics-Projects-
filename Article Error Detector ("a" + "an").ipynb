{
  "cells": [
    {
      "cell_type": "markdown",
      "metadata": {
        "id": "view-in-github",
        "colab_type": "text"
      },
      "source": [
        "<a href=\"https://colab.research.google.com/github/vivianphongngo/Computational-Linguistics-Projects-/blob/main/Article%20Error%20Detector%20(%22a%22%20%2B%20%22an%22).ipynb\" target=\"_parent\"><img src=\"https://colab.research.google.com/assets/colab-badge.svg\" alt=\"Open In Colab\"/></a>"
      ]
    },
    {
      "cell_type": "code",
      "execution_count": null,
      "metadata": {
        "id": "6uLTGMIzvXTx"
      },
      "outputs": [],
      "source": [
        "text1L5 = \"\"\"the traditional virtue of telling the truth in all situations is increasingly doubted by many in\n",
        "today’s world. many believe that telling the truth is not always the best policy when dealing with\n",
        "people. moreover, the line of a “truth” is becoming more and more vague. this essay will explore\n",
        "the importance of telling the truth in relationships between people. we all understand that often the truth is offending and may not be a very nice thing to both hear or say. lies or white lies often have their advantages. the manipulation of white lies is the most obvious the business world. how many times have we heard that some product is “the finest” or “the cheapest”? how many times have we heard that products have such and such “magical functions”? advertising is about persuasion, and many would agree that if a company is to tell the absolute truth about it’s products, no one would be interested in even having a look at the products. the same logic applies to human relationships. if your friend had worn a newly purchased dress on her birthday and energetically asked you if it was a worthy buy, would you freely express your opinion that you had never seen a dress as the one she’s currently wearing? and spoil her birthday? unarguably, hiding(entirely or particially) the truth in some situations can be quite handy indeed. confrontations and disputes can seemingly be avoided. however, there is always the risk factor of the truth emerging sooner or later when telling an untruth. the basic trust in any relationships(businessman/customer, friends, parents/children) will be blotched, and would have an impact on the future relationship between both parties. the story of the “the boy who cried wolf” fully illustrates the consequenes of telling untruths. no one will believe you when you’re telling the truth. your word will have no weighting. in addition, another “bad factor” of telling untruths is that you have absolutely no control over when the truth(of previous untruths) will emerge. untruths breed pain in both parties: tears when the truth is uncovered after a period of time; fear and the burden of sharing a “secret”. in the long run, it seems that hiding the truth is not beneficial to either party. everyone hates betrayal. even if it is the trend to occasionally hide the truth in relationships, it is strongly recommended that not to follow that trend as the risk and the consequences of the truth unfolded overwhelms the minimal advantages one can derive from not telling the truth. afterall, it is understood that relationships are founded on “trust” which goes hand in hand with “truth”. indeed telling the truth is the most important consideration in any relationship between people. always.\n",
        ".\"\"\"\n",
        "text2L4 = \"\"\"I disagree with the statement above. Although I admit that honesty should be one of the most\n",
        "important consideration in human relationship, sometimes white-lies are neccessary not to\n",
        "damage the relationship. First, it is not good to tell someone his or her faults or defects directly. By doing so, you might feel good about telling the truth, but it could hurt the people who will listen. It is naturl that people make mistakes and not everyone is perfect. Despite those shortcomings, we live together by understanding each other and tolerate those errors as we could be the one who makes the same mistakes next time. By being pointed out our mistakes or things other people think abominable, such as the way we look, the clothes we wear, the way we talk and so on, we might hate the person who criticize us rather than being thankful or correcting those.\n",
        "Second, it is better not to tell someone serious facts that can possibly discourage him or her. I\n",
        "speak this from my experience. About one year ago, my nephew got into a terrible car accident\n",
        "and the doctor said he won’t be able to walk again. We were all shocked and felt desprate.\n",
        "However, my other nephews decided not to tell the fact to their mother as she could pass off or be shocked to generate other problems of her own. I felt guilty about not telling the truth to her, who was relieved and became hopeful by the white-lies that her son would be okay. One year since, my nephew is getting better and his mother has been a good supporter. If we had told her the truth, she would have been so desparate that she couldn’t have taken good care of her son and her own health would have been in danger. All in all, even though honesty is obviously great virtue, “always telling the truth” is not the key to maintaining good human relationship. By refraining from telling the truth in certain occasions, we prevent other people from being hurt by the remarks.\"\"\"\n",
        "text3L4 = \"\"\"I certainly agree with this statement. However, in situations, it may happen otherwise. It depends more on one’s mental makeup and the opinion changes because of the kind of relationship he/she may have with people. If one wants a relation where he/she wants to be always in the good books of another person, he/she pretends to behave friendly and says and do things favorable to the other person. If, otherwise, he/she takes care of the other friend, he has to be himself and also correct the other person when he/she is wrong. Truth is bitter. Let us try to explain with an example. say, our friend smokes. Everybody knows smoking is injurious to the health. If you are a person who just wants to be in the good books, you will appreciate his habits. You may comment on the smoker’s style of smoking. You may say, how smoking a cigarette reflects his attitude, like he looks cool, he looks manly and his style is good. You may dislike the smell, but you just be in that place, just because you don’t want to hurt him. By this, you actually don’t care for the person. Whereas, otherwise, you seriously care for the person. You will say that the behavior is bad and you will try to make him understand how smoking will actually affect him and you. It is not only a waste of money, but it is detrimental to his health also. You will also try to educate him how passive smokers are put to risk being with a smoker.\n",
        "It is always better to be yourself and tell the truth in relation with people rather than pretending to be in good relationship. It is because, he/she who considers you a friend, will love you for what you are and not for what you will be or how you will react to please him/her. He will also consider your companionship because you always make him understand what is good and bad. He will also love you for what he is when he is with you.\"\"\"\n",
        "text4L3 = \"\"\"Telling the truth is the most important consideration in any relationship between people once you are going to deal with this person because you first of all must trust in this person, second nobody likes to be treated as a fool, and the truth makes a solid relation perdure. Firs of all, the trust is going to keep a relation going on with confidence and confidence is something really important and you’re going to trust in a person only once. If you lose the trust in someone I think that you will never more be able to trust in this person again. Will you trust a very important value to someone that has already stolen you? I bet you won’t. Second, nobody like to be seen as a fool. It’s not nice been as a glown. It’s not a good sensation to be kept in lies while there many people who know the truth. Can you imagine the sensation of been betrayed? How can you look at someone’s face that betrayed you? A relationship, in this way, won’t be nice and trustful. Once I saw that for a relationship be solid you must trust in person at the point of let yourself fell back in the person arms. I mean, you trust that the person is going to be on your back to hold you on. It won’t be possible with a person that lies to you. The truth means that you can’t lie and if you can’t lie you won’t be able to betray, once you won’t be able to hide anything. If you can’t betray you’re going to have a perfect relationship. The truth is really the basis of a relationship. As a conclusion, I think that the truth is really important in a relationship because it gives you some safety in this relationship, the sensation that you won’t be betrayed.\"\"\"\n",
        "text5L3 = \"\"\"When we were children, we were taught to tell truth. Telling truth and being honest also become\n",
        "the criteria of judging a person. I do think that most people prefer to live in a world of pure truth\n",
        "and it is also the best wish of all kind hearted people. However, what we have to face is not the\n",
        "dream land. Telling truth all the time could only exist in our dreams. In another word, lies could\n",
        "not be avoided. I will illustrate my opinion with the following facts. In the business world, always telling truth equals to commit suicide. For example, when competitor company is asking the content of a tender or the cost of a major product, telling truth is nonsense. Furthermore, we could learn from old collegue that to keep the business secrete is to keep the position.\n",
        "For those people whose profession is politics, lies is their favorite language. In order to\n",
        "stablize the mood of anxcious people, some times president has to tell lies to comfort the peolple so that no more serious result will hapen. Among friends, allways telling truth will also cause lots of avoidable confllicts. For example, when a 49 years old lady ask her froend whether she is beautiful or not. If the answer is No (truth for sure). We could imagine the accompanied results. This is why we are using the term white lie to find the suitable reason to use minor lies.\n",
        "However, despite all these difficulties, we should always try to be honest and tell truth as\n",
        "much as we could. In lots of situation, to tell truth can strengthen the relationship and deepen the communication and understanding among people. Especially among family memers, telling truth is quite necessary for every one. A family full of lie will bankrupt immediately. In a word, in\n",
        "different situation, we should tell different words.\"\"\"\n",
        "text6L2 = \"\"\"The relationship between poeple is very important. It is important that people have to work\n",
        "together to make a better life. It is sometimes hard to keep a good relation between people.\n",
        "Telling the true sometimes can make people problem. In my opinion, I agree that people should\n",
        "always tell the true to make a good relationship beteween people but in the right time.\n",
        "People should be honest to each other ever about what they are telling. It is some time\n",
        "important to tell the true. The story of a boy who take care the sheaps in the field is a good\n",
        "example. He was a good boy, but one day when he thought that lying is fun put him in a big\n",
        "trouble. After he lied to people, he lost his trust made him a big problem when the wolf came.\n",
        "This is a good example of how bad lying is. In the way to make a good relation, people should tell the true whether it may not good in some situation, but everything can be better if people learn when they should say it in the proper time. From my experiences, I used to lost my trust because I did not tell the true. When I was young, I wanted many toys , but I did not have money. I stole people money and lied about where I got the money. One day, everyone found that I stole money and lied to everyone. No one believed me any more. After I grow up and learn that lying is not good, so I always try to tell the true. It made me feel a lot better than before. However, telling the true can make prople sometimes if people don’t learn about when they should say. For example, telling the true to women can make them lose their comfident and put men in trouble sometimes. In the conclusion, I agree that people should alway tell the true to make a good relationship ;however, I think the most important about telling the true is time. If people tell the true in the wrong time, they can be in trouble anyway. The key is tell the true in the appropiate time.\"\"\"\n",
        "text7L2 = \"\"\"It depens on the case, for me there are certean levels of truth, the total and partial. For me the total truth is allways the best way to solve a problem, if there is a solution. By having all the elements a person can have all idea of what to do. For example, if some one is on a trial you have to tell you layer all the information in order to win or at list the fight well, if not the person can will come with diferent stores by excluding information. Now telling a partial truth you are triyng to help the people without hurting them, for example, when a friend ask us if she is fat, and she actially weigths 90 kilos, you wont answer, yes you are as fat as a cow, bewcause you will break her fillings, so you just need to be sutil and friendle, and responder her that, it isnt something that it cannot be fixed, and you can probablie offer her help. By presenting my arguments the best way to keep a relationship between persons is to think what kind of truth are you going to choose and after that you have to thing the right words to express that information that you are gong to say.\"\"\"\n",
        "text8L1 = \"\"\"yes, the truth is the most important in a relationship because each person hope that the people that love talk with the true. The sentimental relationship need building on truth yet that withou this dead. The truth for bad or hard is better that thousand of lied that i feel better.\"\"\"\n",
        "text9S1 = \"\"\"It is through our parents that we begin to constitute our understanding of the world around us. As kids, we absorb much of what we understand of the world from those who are constantly shaping our actions: our parents. However, it could be said that there are teachings one would be better off not having learned from his or her parents. This essay will defend that while parents are the most effective teachers, they are not necessarily the best teachers.\n",
        "\n",
        "Firstly, I would like to support the view that learning from other people is important. That happens because when you only learn from your parents you only get to see a unique point of view, making it the only one you see. The issue of that is when diversity is overlooked it happens to open space to a more narrowed and intolerant view of the world. Personally, I dealt with people who were really close to their parents and they usually didn’t know how to make points or even think for themselves.\n",
        "\n",
        "Nonetheless, for good or bad, our parents are the single most influential people in our pre-adult lives. They have the ability to shape and model our personality and our views of the world. Like the saying goes, an apple does not fall far from the tree. In my experience, most parents have had a positive influence on their kids and were therefore the best teachers. Embedding positive traits on their kids, such as discipline, respect for others, positivity and honesty, is really the best a kid can hope for. Still, there are those who learn things from their parents that would be best forgotten, like greed, racism, and falsehood.\n",
        "\n",
        "In conclusion, the effectiveness of parental teaching is a two way ticket. They can teach a lot of good things to their kids(like honesty and discipline) and can teach bad things(such as racism). This happens because of the strong influence from parents on kids needing a third party to influence the kid to don’t be a copy of the parents view of the world(like thinking for themselves). Thus showing the ambiguous view that parents are effective teachers but not the best.\"\"\"\n",
        "text10S2 = \"\"\"One of the most important aspects of becoming a mature young adult is the ability to make clear and important decisions. Parents, family and close friends can all help in our decision making but it is ultimately up to the person to make the final decision. But not all important decisions are the same. There are decisions that we make as young adults that affect others. Some decisions we make do not impact other people. This essay will defend that each situation is different and must be analyzed carefully.\n",
        "\n",
        "If you want to do an important decision obviously you can, but the decision cannot affect other people. For example of these decisions, if you want to change your university, you don't need ask for other people because you study by yourself. Another example, if you want to travel around the world, you don't need ask others.\n",
        "\n",
        "There are decisions that you should consult others as they affect others. If someone has a wife, she needs to participate in every important decision. It would be irresponsible to decide to leave a job and take another one without discussing the matter with your wife because she is also impacted by your decision. Likewise, if someone has a kid, he or she must consult with the partner before committing to a decision. It would also be irresponsible to decide by yourself where the kid will study. In situations where others are involved and impacted, a person should never make an important decision alone.\n",
        "\n",
        "As we have seen, during life we need to make many important decisions. These decisions can affect other people or not and we talked about them. If you make a decision, you can´t affect other people. For example, travel around the world or change your university. But some decisions we need to ask other people. If you have a partner or a kid, you can´t make a decision alone because it will affect others. So it depends if it will affect others or not. \"\"\"\n",
        "\n"
      ]
    },
    {
      "cell_type": "code",
      "execution_count": null,
      "metadata": {
        "id": "xPI-9JOuZT16"
      },
      "outputs": [],
      "source": []
    },
    {
      "cell_type": "code",
      "execution_count": null,
      "metadata": {
        "id": "73RONAgomFO4"
      },
      "outputs": [],
      "source": [
        "vowels = ['a','e','i','o','u']\n",
        "def error_finder(text):\n",
        "  n_errors = 0\n",
        "  for i in range(5):\n",
        "    n_e = text.count(' a ' + vowels[i])\n",
        "    n_errors = n_errors + n_e\n",
        "  return(n_errors)\n",
        "\n",
        "  print(error_finder(text1L5))\n",
        "  print(error_finder(text2L4))\n",
        "  print(error_finder(text3L4))\n",
        "  print(error_finder(text4L3))\n",
        "  print(error_finder(text5L3))\n",
        "  print(error_finder(text6L2))\n",
        "  print(error_finder(text7L2))\n",
        "  print(error_finder(text8L1))\n",
        "  print(error_finder(text9S1))\n",
        "  print(error_finder(text10S2))\n",
        "\n",
        "  #inccorect use of a"
      ]
    },
    {
      "cell_type": "code",
      "source": [
        "consonants = ['b','c','d','f','g','h','j','k','l','m','n','p','q','r','s','t','v','w','x','y','z']\n",
        "def positive_finder(text):\n",
        "  n_positives = 0\n",
        "  for i in range(5):\n",
        "    n_e = text.count(' a ' + consonants[i])\n",
        "    n_positives = n_positives + n_p\n",
        "  return(n_positives)\n",
        "  print(positive_finder(text1L5))\n",
        "\n",
        "  #correct use of consonants"
      ],
      "metadata": {
        "id": "OkurAQbeQBwK"
      },
      "execution_count": null,
      "outputs": []
    },
    {
      "cell_type": "markdown",
      "metadata": {
        "id": "y8SDhKN7gDX9"
      },
      "source": [
        "Counter (Occurences of \"an\")"
      ]
    },
    {
      "cell_type": "code",
      "execution_count": null,
      "metadata": {
        "colab": {
          "base_uri": "https://localhost:8080/"
        },
        "id": "jZG6jRPQeTsc",
        "outputId": "0022b0b9-fa87-410b-fb48-5809056a981a"
      },
      "outputs": [
        {
          "output_type": "stream",
          "name": "stdout",
          "text": [
            "2\n",
            "0\n",
            "1\n",
            "0\n",
            "0\n",
            "0\n",
            "0\n",
            "0\n",
            "1\n",
            "2\n"
          ]
        }
      ],
      "source": [
        "text1L5 = \"\"\"the traditional virtue of telling the truth in all situations is increasingly doubted by many in\n",
        "today’s world. many believe that telling the truth is not always the best policy when dealing with\n",
        "people. moreover, the line of a “truth” is becoming more and more vague. this essay will explore\n",
        "the importance of telling the truth in relationships between people. we all understand that often the truth is offending and may not be a very nice thing to both hear or say. lies or white lies often have their advantages. the manipulation of white lies is the most obvious the business world. how many times have we heard that some product is “the finest” or “the cheapest”? how many times have we heard that products have such and such “magical functions”? advertising is about persuasion, and many would agree that if a company is to tell the absolute truth about it’s products, no one would be interested in even having a look at the products. the same logic applies to human relationships. if your friend had worn a newly purchased dress on her birthday and energetically asked you if it was a worthy buy, would you freely express your opinion that you had never seen a dress as the one she’s currently wearing? and spoil her birthday? unarguably, hiding(entirely or particially) the truth in some situations can be quite handy indeed. confrontations and disputes can seemingly be avoided. however, there is always the risk factor of the truth emerging sooner or later when telling an untruth. the basic trust in any relationships(businessman/customer, friends, parents/children) will be blotched, and would have an impact on the future relationship between both parties. the story of the “the boy who cried wolf” fully illustrates the consequenes of telling untruths. no one will believe you when you’re telling the truth. your word will have no weighting. in addition, another “bad factor” of telling untruths is that you have absolutely no control over when the truth(of previous untruths) will emerge. untruths breed pain in both parties: tears when the truth is uncovered after a period of time; fear and the burden of sharing a “secret”. in the long run, it seems that hiding the truth is not beneficial to either party. everyone hates betrayal. even if it is the trend to occasionally hide the truth in relationships, it is strongly recommended that not to follow that trend as the risk and the consequences of the truth unfolded overwhelms the minimal advantages one can derive from not telling the truth. afterall, it is understood that relationships are founded on “trust” which goes hand in hand with “truth”. indeed telling the truth is the most important consideration in any relationship between people. always.\n",
        ".\"\"\".count(' an ')\n",
        "print(text1L5)\n",
        "text2L4 = \"\"\"I disagree with the statement above. Although I admit that honesty should be one of the most\n",
        "important consideration in human relationship, sometimes white-lies are neccessary not to\n",
        "damage the relationship. First, it is not good to tell someone his or her faults or defects directly. By doing so, you might feel good about telling the truth, but it could hurt the people who will listen. It is naturl that people make mistakes and not everyone is perfect. Despite those shortcomings, we live together by understanding each other and tolerate those errors as we could be the one who makes the same mistakes next time. By being pointed out our mistakes or things other people think abominable, such as the way we look, the clothes we wear, the way we talk and so on, we might hate the person who criticize us rather than being thankful or correcting those.\n",
        "Second, it is better not to tell someone serious facts that can possibly discourage him or her. I\n",
        "speak this from my experience. About one year ago, my nephew got into a terrible car accident\n",
        "and the doctor said he won’t be able to walk again. We were all shocked and felt desprate.\n",
        "However, my other nephews decided not to tell the fact to their mother as she could pass off or be shocked to generate other problems of her own. I felt guilty about not telling the truth to her, who was relieved and became hopeful by the white-lies that her son would be okay. One year since, my nephew is getting better and his mother has been a good supporter. If we had told her the truth, she would have been so desparate that she couldn’t have taken good care of her son and her own health would have been in danger. All in all, even though honesty is obviously great virtue, “always telling the truth” is not the key to maintaining good human relationship. By refraining from telling the truth in certain occasions, we prevent other people from being hurt by the remarks.\"\"\".count(' an ')\n",
        "print(text2L4)\n",
        "text3L4 = \"\"\"I certainly agree with this statement. However, in situations, it may happen otherwise. It depends more on one’s mental makeup and the opinion changes because of the kind of relationship he/she may have with people. If one wants a relation where he/she wants to be always in the good books of another person, he/she pretends to behave friendly and says and do things favorable to the other person. If, otherwise, he/she takes care of the other friend, he has to be himself and also correct the other person when he/she is wrong. Truth is bitter. Let us try to explain with an example. say, our friend smokes. Everybody knows smoking is injurious to the health. If you are a person who just wants to be in the good books, you will appreciate his habits. You may comment on the smoker’s style of smoking. You may say, how smoking a cigarette reflects his attitude, like he looks cool, he looks manly and his style is good. You may dislike the smell, but you just be in that place, just because you don’t want to hurt him. By this, you actually don’t care for the person. Whereas, otherwise, you seriously care for the person. You will say that the behavior is bad and you will try to make him understand how smoking will actually affect him and you. It is not only a waste of money, but it is detrimental to his health also. You will also try to educate him how passive smokers are put to risk being with a smoker.\n",
        "It is always better to be yourself and tell the truth in relation with people rather than pretending to be in good relationship. It is because, he/she who considers you a friend, will love you for what you are and not for what you will be or how you will react to please him/her. He will also consider your companionship because you always make him understand what is good and bad. He will also love you for what he is when he is with you.\"\"\".count(' an ')\n",
        "print(text3L4)\n",
        "text4L3 = \"\"\"Telling the truth is the most important consideration in any relationship between people once you are going to deal with this person because you first of all must trust in this person, second nobody likes to be treated as a fool, and the truth makes a solid relation perdure. Firs of all, the trust is going to keep a relation going on with confidence and confidence is something really important and you’re going to trust in a person only once. If you lose the trust in someone I think that you will never more be able to trust in this person again. Will you trust a very important value to someone that has already stolen you? I bet you won’t. Second, nobody like to be seen as a fool. It’s not nice been as a glown. It’s not a good sensation to be kept in lies while there many people who know the truth. Can you imagine the sensation of been betrayed? How can you look at someone’s face that betrayed you? A relationship, in this way, won’t be nice and trustful. Once I saw that for a relationship be solid you must trust in person at the point of let yourself fell back in the person arms. I mean, you trust that the person is going to be on your back to hold you on. It won’t be possible with a person that lies to you. The truth means that you can’t lie and if you can’t lie you won’t be able to betray, once you won’t be able to hide anything. If you can’t betray you’re going to have a perfect relationship. The truth is really the basis of a relationship. As a conclusion, I think that the truth is really important in a relationship because it gives you some safety in this relationship, the sensation that you won’t be betrayed.\"\"\".count(' an ')\n",
        "print(text4L3)\n",
        "text5L3 = \"\"\"When we were children, we were taught to tell truth. Telling truth and being honest also become\n",
        "the criteria of judging a person. I do think that most people prefer to live in a world of pure truth\n",
        "and it is also the best wish of all kind hearted people. However, what we have to face is not the\n",
        "dream land. Telling truth all the time could only exist in our dreams. In another word, lies could\n",
        "not be avoided. I will illustrate my opinion with the following facts. In the business world, always telling truth equals to commit suicide. For example, when competitor company is asking the content of a tender or the cost of a major product, telling truth is nonsense. Furthermore, we could learn from old collegue that to keep the business secrete is to keep the position.\n",
        "For those people whose profession is politics, lies is their favorite language. In order to\n",
        "stablize the mood of anxcious people, some times president has to tell lies to comfort the peolple so that no more serious result will hapen. Among friends, allways telling truth will also cause lots of avoidable confllicts. For example, when a 49 years old lady ask her froend whether she is beautiful or not. If the answer is No (truth for sure). We could imagine the accompanied results. This is why we are using the term white lie to find the suitable reason to use minor lies.\n",
        "However, despite all these difficulties, we should always try to be honest and tell truth as\n",
        "much as we could. In lots of situation, to tell truth can strengthen the relationship and deepen the communication and understanding among people. Especially among family memers, telling truth is quite necessary for every one. A family full of lie will bankrupt immediately. In a word, in\n",
        "different situation, we should tell different words.\"\"\".count(' an ')\n",
        "print(text5L3)\n",
        "text6L2 = \"\"\"The relationship between poeple is very important. It is important that people have to work\n",
        "together to make a better life. It is sometimes hard to keep a good relation between people.\n",
        "Telling the true sometimes can make people problem. In my opinion, I agree that people should\n",
        "always tell the true to make a good relationship beteween people but in the right time.\n",
        "People should be honest to each other ever about what they are telling. It is some time\n",
        "important to tell the true. The story of a boy who take care the sheaps in the field is a good\n",
        "example. He was a good boy, but one day when he thought that lying is fun put him in a big\n",
        "trouble. After he lied to people, he lost his trust made him a big problem when the wolf came.\n",
        "This is a good example of how bad lying is. In the way to make a good relation, people should tell the true whether it may not good in some situation, but everything can be better if people learn when they should say it in the proper time. From my experiences, I used to lost my trust because I did not tell the true. When I was young, I wanted many toys , but I did not have money. I stole people money and lied about where I got the money. One day, everyone found that I stole money and lied to everyone. No one believed me any more. After I grow up and learn that lying is not good, so I always try to tell the true. It made me feel a lot better than before. However, telling the true can make prople sometimes if people don’t learn about when they should say. For example, telling the true to women can make them lose their comfident and put men in trouble sometimes. In the conclusion, I agree that people should alway tell the true to make a good relationship ;however, I think the most important about telling the true is time. If people tell the true in the wrong time, they can be in trouble anyway. The key is tell the true in the appropiate time.\"\"\".count(' an ')\n",
        "print(text6L2)\n",
        "text7L2 = \"\"\"It depens on the case, for me there are certean levels of truth, the total and partial. For me the total truth is allways the best way to solve a problem, if there is a solution. By having all the elements a person can have all idea of what to do. For example, if some one is on a trial you have to tell you layer all the information in order to win or at list the fight well, if not the person can will come with diferent stores by excluding information. Now telling a partial truth you are triyng to help the people without hurting them, for example, when a friend ask us if she is fat, and she actially weigths 90 kilos, you wont answer, yes you are as fat as a cow, bewcause you will break her fillings, so you just need to be sutil and friendle, and responder her that, it isnt something that it cannot be fixed, and you can probablie offer her help. By presenting my arguments the best way to keep a relationship between persons is to think what kind of truth are you going to choose and after that you have to thing the right words to express that information that you are gong to say\"\"\".count(' an ')\n",
        "print(text7L2)\n",
        "text8L1 = \"\"\"yes, the truth is the most important in a relationship because each person hope that the people that love talk with the true. The sentimental relationship need building on truth yet that withou this dead. The truth for bad or hard is better that thousand of lied that i feel better.\"\"\".count(' an ')\n",
        "print(text8L1)\n",
        "\n",
        "text9S1 = \"\"\"It is through our parents that we begin to constitute our understanding of the world around us. As kids, we absorb much of what we understand of the world from those who are constantly shaping our actions: our parents. However, it could be said that there are teachings one would be better off not having learned from his or her parents. This essay will defend that while parents are the most effective teachers, they are not necessarily the best teachers.\n",
        "\n",
        "Firstly, I would like to support the view that learning from other people is important. That happens because when you only learn from your parents you only get to see a unique point of view, making it the only one you see. The issue of that is when diversity is overlooked it happens to open space to a more narrowed and intolerant view of the world. Personally, I dealt with people who were really close to their parents and they usually didn’t know how to make points or even think for themselves.\n",
        "\n",
        "Nonetheless, for good or bad, our parents are the single most influential people in our pre-adult lives. They have the ability to shape and model our personality and our views of the world. Like the saying goes, an apple does not fall far from the tree. In my experience, most parents have had a positive influence on their kids and were therefore the best teachers. Embedding positive traits on their kids, such as discipline, respect for others, positivity and honesty, is really the best a kid can hope for. Still, there are those who learn things from their parents that would be best forgotten, like greed, racism, and falsehood.\n",
        "\n",
        "In conclusion, the effectiveness of parental teaching is a two way ticket. They can teach a lot of good things to their kids(like honesty and discipline) and can teach bad things(such as racism). This happens because of the strong influence from parents on kids needing a third party to influence the kid to don’t be a copy of the parents view of the world(like thinking for themselves). Thus showing the ambiguous view that parents are effective teachers but not the best.\"\"\".count(' an ')\n",
        "print(text9S1)\n",
        "\n",
        "text10S2 = \"\"\"One of the most important aspects of becoming a mature young adult is the ability to make clear and important decisions. Parents, family and close friends can all help in our decision making but it is ultimately up to the person to make the final decision. But not all important decisions are the same. There are decisions that we make as young adults that affect others. Some decisions we make do not impact other people. This essay will defend that each situation is different and must be analyzed carefully.\n",
        "\n",
        "If you want to do an important decision obviously you can, but the decision cannot affect other people. For example of these decisions, if you want to change your university, you don't need ask for other people because you study by yourself. Another example, if you want to travel around the world, you don't need ask others.\n",
        "\n",
        "There are decisions that you should consult others as they affect others. If someone has a wife, she needs to participate in every important decision. It would be irresponsible to decide to leave a job and take another one without discussing the matter with your wife because she is also impacted by your decision. Likewise, if someone has a kid, he or she must consult with the partner before committing to a decision. It would also be irresponsible to decide by yourself where the kid will study. In situations where others are involved and impacted, a person should never make an important decision alone.\n",
        "\n",
        "As we have seen, during life we need to make many important decisions. These decisions can affect other people or not and we talked about them. If you make a decision, you can´t affect other people. For example, travel around the world or change your university. But some decisions we need to ask other people. If you have a partner or a kid, you can´t make a decision alone because it will affect others. So it depends if it will affect others or not.\"\"\".count(' an ')\n",
        "print(text10S2)\n",
        "\n",
        "\n",
        "\n",
        "\n"
      ]
    },
    {
      "cell_type": "code",
      "source": [
        "consonants = ['b','c','d','f','g','h','j','k','l','m','n','p','q''r','s','t','v','w','x', 'z']\n",
        "def error_finder(text):\n",
        "  n_errors = 0\n",
        "  for i in range(5):\n",
        "    n_e = text.count(' an ' + consonants[i])\n",
        "    n_errors = n_errors + n_e\n",
        "  return(n_errors)\n",
        "\n",
        "  print(error_finder(text1L5))\n",
        "  print(error_finder(text2L4))\n",
        "  print(error_finder(text3L4))\n",
        "  print(error_finder(text4L3))\n",
        "  print(error_finder(text5L3))\n",
        "  print(error_finder(text6L2))\n",
        "  print(error_finder(text7L2))\n",
        "  print(error_finder(text8L1))\n",
        "  print(error_finder(text9S1))\n",
        "  print(error_finder(text10S2))\n",
        "\n",
        "  #incorrect use of an"
      ],
      "metadata": {
        "id": "0BQ_vOyDOAWT"
      },
      "execution_count": null,
      "outputs": []
    },
    {
      "cell_type": "markdown",
      "metadata": {
        "id": "6VK-fi3YiNmB"
      },
      "source": [
        "Counter Occurences of the article \"a\""
      ]
    },
    {
      "cell_type": "code",
      "execution_count": null,
      "metadata": {
        "colab": {
          "base_uri": "https://localhost:8080/"
        },
        "id": "XswELI5tex31",
        "outputId": "dd90ea50-9a32-48f2-e3e7-567e8448b32b"
      },
      "outputs": [
        {
          "output_type": "stream",
          "name": "stdout",
          "text": [
            "9\n",
            "2\n",
            "6\n",
            "0\n",
            "6\n",
            "0\n",
            "8\n",
            "1\n",
            "8\n",
            "10\n"
          ]
        }
      ],
      "source": [
        "text1L5 = \"\"\"the traditional virtue of telling the truth in all situations is increasingly doubted by many in\n",
        "today’s world. many believe that telling the truth is not always the best policy when dealing with\n",
        "people. moreover, the line of a “truth” is becoming more and more vague. this essay will explore\n",
        "the importance of telling the truth in relationships between people. we all understand that often the truth is offending and may not be a very nice thing to both hear or say. lies or white lies often have their advantages. the manipulation of white lies is the most obvious the business world. how many times have we heard that some product is “the finest” or “the cheapest”? how many times have we heard that products have such and such “magical functions”? advertising is about persuasion, and many would agree that if a company is to tell the absolute truth about it’s products, no one would be interested in even having a look at the products. the same logic applies to human relationships. if your friend had worn a newly purchased dress on her birthday and energetically asked you if it was a worthy buy, would you freely express your opinion that you had never seen a dress as the one she’s currently wearing? and spoil her birthday? unarguably, hiding(entirely or particially) the truth in some situations can be quite handy indeed. confrontations and disputes can seemingly be avoided. however, there is always the risk factor of the truth emerging sooner or later when telling an untruth. the basic trust in any relationships(businessman/customer, friends, parents/children) will be blotched, and would have an impact on the future relationship between both parties. the story of the “the boy who cried wolf” fully illustrates the consequenes of telling untruths. no one will believe you when you’re telling the truth. your word will have no weighting. in addition, another “bad factor” of telling untruths is that you have absolutely no control over when the truth(of previous untruths) will emerge. untruths breed pain in both parties: tears when the truth is uncovered after a period of time; fear and the burden of sharing a “secret”. in the long run, it seems that hiding the truth is not beneficial to either party. everyone hates betrayal. even if it is the trend to occasionally hide the truth in relationships, it is strongly recommended that not to follow that trend as the risk and the consequences of the truth unfolded overwhelms the minimal advantages one can derive from not telling the truth. afterall, it is understood that relationships are founded on “trust” which goes hand in hand with “truth”. indeed telling the truth is the most important consideration in any relationship between people. always.\n",
        ".\"\"\".count(' a ')\n",
        "print(text1L5)\n",
        "text2L4 = \"\"\"I disagree with the statement above. Although I admit that honesty should be one of the most\n",
        "important consideration in human relationship, sometimes white-lies are neccessary not to\n",
        "damage the relationship. First, it is not good to tell someone his or her faults or defects directly. By doing so, you might feel good about telling the truth, but it could hurt the people who will listen. It is naturl that people make mistakes and not everyone is perfect. Despite those shortcomings, we live together by understanding each other and tolerate those errors as we could be the one who makes the same mistakes next time. By being pointed out our mistakes or things other people think abominable, such as the way we look, the clothes we wear, the way we talk and so on, we might hate the person who criticize us rather than being thankful or correcting those.\n",
        "Second, it is better not to tell someone serious facts that can possibly discourage him or her. I\n",
        "speak this from my experience. About one year ago, my nephew got into a terrible car accident\n",
        "and the doctor said he won’t be able to walk again. We were all shocked and felt desprate.\n",
        "However, my other nephews decided not to tell the fact to their mother as she could pass off or be shocked to generate other problems of her own. I felt guilty about not telling the truth to her, who was relieved and became hopeful by the white-lies that her son would be okay. One year since, my nephew is getting better and his mother has been a good supporter. If we had told her the truth, she would have been so desparate that she couldn’t have taken good care of her son and her own health would have been in danger. All in all, even though honesty is obviously great virtue, “always telling the truth” is not the key to maintaining good human relationship. By refraining from telling the truth in certain occasions, we prevent other people from being hurt by the remarks.\"\"\".count(' a ')\n",
        "print(text2L4)\n",
        "text3L4 = \"\"\"I certainly agree with this statement. However, in situations, it may happen otherwise. It depends more on one’s mental makeup and the opinion changes because of the kind of relationship he/she may have with people. If one wants a relation where he/she wants to be always in the good books of another person, he/she pretends to behave friendly and says and do things favorable to the other person. If, otherwise, he/she takes care of the other friend, he has to be himself and also correct the other person when he/she is wrong. Truth is bitter. Let us try to explain with an example. say, our friend smokes. Everybody knows smoking is injurious to the health. If you are a person who just wants to be in the good books, you will appreciate his habits. You may comment on the smoker’s style of smoking. You may say, how smoking a cigarette reflects his attitude, like he looks cool, he looks manly and his style is good. You may dislike the smell, but you just be in that place, just because you don’t want to hurt him. By this, you actually don’t care for the person. Whereas, otherwise, you seriously care for the person. You will say that the behavior is bad and you will try to make him understand how smoking will actually affect him and you. It is not only a waste of money, but it is detrimental to his health also. You will also try to educate him how passive smokers are put to risk being with a smoker.\n",
        "It is always better to be yourself and tell the truth in relation with people rather than pretending to be in good relationship. It is because, he/she who considers you a friend, will love you for what you are and not for what you will be or how you will react to please him/her. He will also consider your companionship because you always make him understand what is good and bad. He will also love you for what he is when he is with you.\"\"\".count(' a ')\n",
        "print(text3L4)\n",
        "text4L3 = \"\"\"Telling the truth is the most important consideration in any relationship between people once you are going to deal with this person because you first of all must trust in this person, second nobody likes to be treated as a fool, and the truth makes a solid relation perdure. Firs of all, the trust is going to keep a relation going on with confidence and confidence is something really important and you’re going to trust in a person only once. If you lose the trust in someone I think that you will never more be able to trust in this person again. Will you trust a very important value to someone that has already stolen you? I bet you won’t. Second, nobody like to be seen as a fool. It’s not nice been as a glown. It’s not a good sensation to be kept in lies while there many people who know the truth. Can you imagine the sensation of been betrayed? How can you look at someone’s face that betrayed you? A relationship, in this way, won’t be nice and trustful. Once I saw that for a relationship be solid you must trust in person at the point of let yourself fell back in the person arms. I mean, you trust that the person is going to be on your back to hold you on. It won’t be possible with a person that lies to you. The truth means that you can’t lie and if you can’t lie you won’t be able to betray, once you won’t be able to hide anything. If you can’t betray you’re going to have a perfect relationship. The truth is really the basis of a relationship. As a conclusion, I think that the truth is really important in a relationship because it gives you some safety in this relationship, the sensation that you won’t be betrayed.\"\"\".count(' an ')\n",
        "print(text4L3)\n",
        "text5L3 = \"\"\"When we were children, we were taught to tell truth. Telling truth and being honest also become\n",
        "the criteria of judging a person. I do think that most people prefer to live in a world of pure truth\n",
        "and it is also the best wish of all kind hearted people. However, what we have to face is not the\n",
        "dream land. Telling truth all the time could only exist in our dreams. In another word, lies could\n",
        "not be avoided. I will illustrate my opinion with the following facts. In the business world, always telling truth equals to commit suicide. For example, when competitor company is asking the content of a tender or the cost of a major product, telling truth is nonsense. Furthermore, we could learn from old collegue that to keep the business secrete is to keep the position.\n",
        "For those people whose profession is politics, lies is their favorite language. In order to\n",
        "stablize the mood of anxcious people, some times president has to tell lies to comfort the peolple so that no more serious result will hapen. Among friends, allways telling truth will also cause lots of avoidable confllicts. For example, when a 49 years old lady ask her froend whether she is beautiful or not. If the answer is No (truth for sure). We could imagine the accompanied results. This is why we are using the term white lie to find the suitable reason to use minor lies.\n",
        "However, despite all these difficulties, we should always try to be honest and tell truth as\n",
        "much as we could. In lots of situation, to tell truth can strengthen the relationship and deepen the communication and understanding among people. Especially among family memers, telling truth is quite necessary for every one. A family full of lie will bankrupt immediately. In a word, in\n",
        "different situation, we should tell different words.\"\"\".count(' a ')\n",
        "print(text5L3)\n",
        "text6L2 = \"\"\"The relationship between poeple is very important. It is important that people have to work\n",
        "together to make a better life. It is sometimes hard to keep a good relation between people.\n",
        "Telling the true sometimes can make people problem. In my opinion, I agree that people should\n",
        "always tell the true to make a good relationship beteween people but in the right time.\n",
        "People should be honest to each other ever about what they are telling. It is some time\n",
        "important to tell the true. The story of a boy who take care the sheaps in the field is a good\n",
        "example. He was a good boy, but one day when he thought that lying is fun put him in a big\n",
        "trouble. After he lied to people, he lost his trust made him a big problem when the wolf came.\n",
        "This is a good example of how bad lying is. In the way to make a good relation, people should tell the true whether it may not good in some situation, but everything can be better if people learn when they should say it in the proper time. From my experiences, I used to lost my trust because I did not tell the true. When I was young, I wanted many toys , but I did not have money. I stole people money and lied about where I got the money. One day, everyone found that I stole money and lied to everyone. No one believed me any more. After I grow up and learn that lying is not good, so I always try to tell the true. It made me feel a lot better than before. However, telling the true can make prople sometimes if people don’t learn about when they should say. For example, telling the true to women can make them lose their comfident and put men in trouble sometimes. In the conclusion, I agree that people should alway tell the true to make a good relationship ;however, I think the most important about telling the true is time. If people tell the true in the wrong time, they can be in trouble anyway. The key is tell the true in the appropiate time.\"\"\".count(' an ')\n",
        "print(text6L2)\n",
        "text7L2 = \"\"\"It depens on the case, for me there are certean levels of truth, the total and partial. For me the total truth is allways the best way to solve a problem, if there is a solution. By having all the elements a person can have all idea of what to do. For example, if some one is on a trial you have to tell you layer all the information in order to win or at list the fight well, if not the person can will come with diferent stores by excluding information. Now telling a partial truth you are triyng to help the people without hurting them, for example, when a friend ask us if she is fat, and she actially weigths 90 kilos, you wont answer, yes you are as fat as a cow, bewcause you will break her fillings, so you just need to be sutil and friendle, and responder her that, it isnt something that it cannot be fixed, and you can probablie offer her help. By presenting my arguments the best way to keep a relationship between persons is to think what kind of truth are you going to choose and after that you have to thing the right words to express that information that you are gong to say\"\"\".count(' a ')\n",
        "print(text7L2)\n",
        "text8L1 = \"\"\"yes, the truth is the most important in a relationship because each person hope that the people that love talk with the true. The sentimental relationship need building on truth yet that withou this dead. The truth for bad or hard is better that thousand of lied that i feel better.\"\"\".count(' a ')\n",
        "print(text8L1)\n",
        "\n",
        "text9S1 = \"\"\"It is through our parents that we begin to constitute our understanding of the world around us. As kids, we absorb much of what we understand of the world from those who are constantly shaping our actions: our parents. However, it could be said that there are teachings one would be better off not having learned from his or her parents. This essay will defend that while parents are the most effective teachers, they are not necessarily the best teachers.\n",
        "\n",
        "Firstly, I would like to support the view that learning from other people is important. That happens because when you only learn from your parents you only get to see a unique point of view, making it the only one you see. The issue of that is when diversity is overlooked it happens to open space to a more narrowed and intolerant view of the world. Personally, I dealt with people who were really close to their parents and they usually didn’t know how to make points or even think for themselves.\n",
        "\n",
        "Nonetheless, for good or bad, our parents are the single most influential people in our pre-adult lives. They have the ability to shape and model our personality and our views of the world. Like the saying goes, an apple does not fall far from the tree. In my experience, most parents have had a positive influence on their kids and were therefore the best teachers. Embedding positive traits on their kids, such as discipline, respect for others, positivity and honesty, is really the best a kid can hope for. Still, there are those who learn things from their parents that would be best forgotten, like greed, racism, and falsehood.\n",
        "\n",
        "In conclusion, the effectiveness of parental teaching is a two way ticket. They can teach a lot of good things to their kids(like honesty and discipline) and can teach bad things(such as racism). This happens because of the strong influence from parents on kids needing a third party to influence the kid to don’t be a copy of the parents view of the world(like thinking for themselves). Thus showing the ambiguous view that parents are effective teachers but not the best.\"\"\".count(' a ')\n",
        "print(text9S1)\n",
        "\n",
        "text10S2 = \"\"\"One of the most important aspects of becoming a mature young adult is the ability to make clear and important decisions. Parents, family and close friends can all help in our decision making but it is ultimately up to the person to make the final decision. But not all important decisions are the same. There are decisions that we make as young adults that affect others. Some decisions we make do not impact other people. This essay will defend that each situation is different and must be analyzed carefully.\n",
        "\n",
        "If you want to do an important decision obviously you can, but the decision cannot affect other people. For example of these decisions, if you want to change your university, you don't need ask for other people because you study by yourself. Another example, if you want to travel around the world, you don't need ask others.\n",
        "\n",
        "There are decisions that you should consult others as they affect others. If someone has a wife, she needs to participate in every important decision. It would be irresponsible to decide to leave a job and take another one without discussing the matter with your wife because she is also impacted by your decision. Likewise, if someone has a kid, he or she must consult with the partner before committing to a decision. It would also be irresponsible to decide by yourself where the kid will study. In situations where others are involved and impacted, a person should never make an important decision alone.\n",
        "\n",
        "As we have seen, during life we need to make many important decisions. These decisions can affect other people or not and we talked about them. If you make a decision, you can´t affect other people. For example, travel around the world or change your university. But some decisions we need to ask other people. If you have a partner or a kid, you can´t make a decision alone because it will affect others. So it depends if it will affect others or not.\"\"\".count(' a ')\n",
        "print(text10S2)"
      ]
    }
  ],
  "metadata": {
    "colab": {
      "provenance": [],
      "include_colab_link": true
    },
    "kernelspec": {
      "display_name": "Python 3",
      "name": "python3"
    },
    "language_info": {
      "name": "python"
    }
  },
  "nbformat": 4,
  "nbformat_minor": 0
}